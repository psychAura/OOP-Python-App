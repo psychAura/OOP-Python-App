{
 "cells": [
  {
   "cell_type": "code",
   "execution_count": 1,
   "id": "a6d2f311-2b12-4e8f-b4fe-75665c386c90",
   "metadata": {},
   "outputs": [],
   "source": [
    "class Car:\n",
    "\n",
    "    ### initializing class\n",
    "    def __init__(self, make, model, year, price):\n",
    "        self.make = make\n",
    "        self.model = model\n",
    "        self.year = year\n",
    "        self.price = price\n",
    "        self.sold = False\n",
    "\n",
    "    ### method to get info of cars\n",
    "    def get_info(self):\n",
    "        return f\"{self.year} {self.make} {self.model} - ${self.price}\"\n",
    "\n",
    "    ### method to check if car is sold or not\n",
    "    def sell(self):\n",
    "        if not self.sold:\n",
    "            self.sold = True\n",
    "            return f\"{self.get_info()} has been sold!\"\n",
    "        else:\n",
    "            return f\"{self.get_info()} is already sold.\"\n",
    "\n",
    "### class to add car, show list of cars and sell car\n",
    "class Dealership:\n",
    "    def __init__(self):\n",
    "        self.inventory = []\n",
    "\n",
    "    ## takes car from first class above and adds to the inventory\n",
    "    def add_car(self, car):\n",
    "        self.inventory.append(car)\n",
    "\n",
    "    ## checks if inventory is empty, if not returns list of cars in inventory\n",
    "    def show_inventory(self):\n",
    "        if not self.inventory:\n",
    "            return \"No cars available.\"\n",
    "        return \",\".join(car.get_info() for car in self.inventory if not car.sold)\n",
    "\n",
    "    ## sells car\n",
    "    def sell_car(self, make, model):\n",
    "        for car in self.inventory:\n",
    "            if car.make == make and car.model == model and not car.sold:\n",
    "                return car.sell()\n",
    "        return \"Car not found or already sold.\"\n",
    "        \n",
    "\n",
    "\n",
    "# Creating instances of classes\n",
    "car1 = Car(\"Toyota\", \"Corolla\", 2022, 20000)\n",
    "car2 = Car(\"Honda\", \"Civic\", 2023, 22000)\n",
    "car3 = Car(\"Toyota\", \"Vitz\", 2023, 30000)\n"
   ]
  },
  {
   "cell_type": "code",
   "execution_count": 2,
   "id": "bb4c8be7-b227-4bde-ac1c-2d77fbb05416",
   "metadata": {},
   "outputs": [
    {
     "data": {
      "text/plain": [
       "'2022 Toyota Corolla - $20000'"
      ]
     },
     "execution_count": 2,
     "metadata": {},
     "output_type": "execute_result"
    }
   ],
   "source": [
    "car1.get_info()"
   ]
  },
  {
   "cell_type": "code",
   "execution_count": 3,
   "id": "1f64a7a1-30d9-40db-a8b1-44aa562b1071",
   "metadata": {},
   "outputs": [
    {
     "data": {
      "text/plain": [
       "'2023 Honda Civic - $22000 has been sold!'"
      ]
     },
     "execution_count": 3,
     "metadata": {},
     "output_type": "execute_result"
    }
   ],
   "source": [
    "car2.sell()"
   ]
  },
  {
   "cell_type": "code",
   "execution_count": 4,
   "id": "b1b46acb-c2f3-4ec8-94e5-57654f36546f",
   "metadata": {},
   "outputs": [
    {
     "data": {
      "text/plain": [
       "'2022 Toyota Corolla - $20000,2023 Toyota Vitz - $30000'"
      ]
     },
     "execution_count": 4,
     "metadata": {},
     "output_type": "execute_result"
    }
   ],
   "source": [
    "dealership = Dealership()\n",
    "\n",
    "dealership.add_car(car1)\n",
    "dealership.add_car(car2)\n",
    "dealership.add_car(car3)\n",
    "\n",
    "dealership.show_inventory()"
   ]
  },
  {
   "cell_type": "code",
   "execution_count": null,
   "id": "1fa35869-085a-40ca-a258-d640ce40719f",
   "metadata": {},
   "outputs": [],
   "source": [
    "# #### Adding a UI to the app using tkinter python library\n",
    "\n",
    "import tkinter as tk\n",
    "from tkinter import ttk, messagebox\n",
    "\n",
    "class CarSalesApp:\n",
    "    def __init__(self, root):\n",
    "        \"\"\"Initialize the car sales application and UI components.\"\"\"\n",
    "        self.root = root\n",
    "        self.root.title(\"KAKLyM Dealership App\")\n",
    "        self.root.geometry(\"500x450\")  # Reduced size to avoid full window coverage\n",
    "        self.root.configure(bg=\"white\")\n",
    "\n",
    "        style = ttk.Style()\n",
    "        style.configure(\"TLabel\", foreground=\"black\", background=\"white\", font=(\"Arial\", 10))\n",
    "        style.configure(\"TButton\", font=(\"Arial\", 10, \"bold\"), padding=5)\n",
    "        style.configure(\"TFrame\", background=\"white\")\n",
    "\n",
    "        # Header Label\n",
    "        header = tk.Label(root, text=\"🚗 KAKLyM Dealership App\", font=(\"Arial\", 14, \"bold\"), bg=\"black\", fg=\"white\", padx=10, pady=5)\n",
    "        header.pack(fill=\"x\")\n",
    "\n",
    "        # Input frame for adding cars\n",
    "        input_frame = ttk.LabelFrame(root, text=\"Add Car\", padding=10)\n",
    "        input_frame.pack(pady=10, fill=\"x\", padx=10)\n",
    "\n",
    "        # Labels and entry fields for car details\n",
    "        ttk.Label(input_frame, text=\"Car Make:\").grid(row=0, column=0, sticky=\"w\")\n",
    "        ttk.Label(input_frame, text=\"Car Model:\").grid(row=1, column=0, sticky=\"w\")\n",
    "        ttk.Label(input_frame, text=\"Car Year:\").grid(row=2, column=0, sticky=\"w\")\n",
    "        ttk.Label(input_frame, text=\"Car Price ($):\").grid(row=3, column=0, sticky=\"w\")\n",
    "\n",
    "        self.make_entry = ttk.Entry(input_frame)\n",
    "        self.model_entry = ttk.Entry(input_frame)\n",
    "        self.year_entry = ttk.Entry(input_frame)\n",
    "        self.price_entry = ttk.Entry(input_frame)\n",
    "\n",
    "        self.make_entry.grid(row=0, column=1, padx=5, pady=2)\n",
    "        self.model_entry.grid(row=1, column=1, padx=5, pady=2)\n",
    "        self.year_entry.grid(row=2, column=1, padx=5, pady=2)\n",
    "        self.price_entry.grid(row=3, column=1, padx=5, pady=2)\n",
    "\n",
    "        # Buttons to add and sell cars\n",
    "        button_frame = ttk.Frame(input_frame)\n",
    "        button_frame.grid(row=4, columnspan=2, pady=5)\n",
    "\n",
    "        add_button = tk.Button(button_frame, text=\"Add Car\", command=self.add_car, bg=\"green\", fg=\"white\", font=(\"Arial\", 10, \"bold\"), width=10)\n",
    "        add_button.pack(side=\"left\", padx=5)\n",
    "\n",
    "        sell_button = tk.Button(button_frame, text=\"Sell Car\", command=self.sell_car, bg=\"red\", fg=\"white\", font=(\"Arial\", 10, \"bold\"), width=10)\n",
    "        sell_button.pack(side=\"left\")\n",
    "\n",
    "        # Frame for inventory display\n",
    "        inventory_frame = ttk.LabelFrame(root, text=\"Available Cars:\", padding=10)\n",
    "        inventory_frame.pack(pady=10, fill=\"both\", expand=True, padx=10)\n",
    "\n",
    "        # Listbox to show available cars\n",
    "        self.inventory_listbox = tk.Listbox(inventory_frame, height=8, bg=\"white\", fg=\"black\", font=(\"Arial\", 10))\n",
    "        self.inventory_listbox.pack(side=\"left\", fill=\"both\", expand=True)\n",
    "\n",
    "        # Scrollbar for inventory list\n",
    "        scrollbar = ttk.Scrollbar(inventory_frame, orient=\"vertical\", command=self.inventory_listbox.yview)\n",
    "        scrollbar.pack(side=\"right\", fill=\"y\")\n",
    "        self.inventory_listbox.config(yscrollcommand=scrollbar.set)\n",
    "\n",
    "    def add_car(self):\n",
    "        \"\"\"Adds a car to the inventory.\"\"\"\n",
    "        make = self.make_entry.get()\n",
    "        model = self.model_entry.get()\n",
    "        year = self.year_entry.get()\n",
    "        price = self.price_entry.get()\n",
    "\n",
    "        if make and model and year.isdigit() and price.isdigit():\n",
    "            car_info = f\"{year} {make} {model} - ${price}\"\n",
    "            self.inventory_listbox.insert(tk.END, car_info)\n",
    "            messagebox.showinfo(\"Success\", \"Car added successfully!\")\n",
    "            self.clear_entries()\n",
    "        else:\n",
    "            messagebox.showerror(\"Error\", \"Please enter valid details.\")\n",
    "\n",
    "    def sell_car(self):\n",
    "        \"\"\"Removes a car from the inventory when sold.\"\"\"\n",
    "        selected = self.inventory_listbox.curselection()\n",
    "        if selected:\n",
    "            self.inventory_listbox.delete(selected)\n",
    "            messagebox.showinfo(\"Sale Success\", \"Car sold successfully!\")\n",
    "        else:\n",
    "            messagebox.showerror(\"Error\", \"Please select a car to sell.\")\n",
    "\n",
    "    def clear_entries(self):\n",
    "        \"\"\"Clears input fields after adding a car.\"\"\"\n",
    "        self.make_entry.delete(0, tk.END)\n",
    "        self.model_entry.delete(0, tk.END)\n",
    "        self.year_entry.delete(0, tk.END)\n",
    "        self.price_entry.delete(0, tk.END)\n",
    "\n",
    "# Run the app\n",
    "if __name__ == \"__main__\":\n",
    "    root = tk.Tk()\n",
    "    app = CarSalesApp(root)\n",
    "    root.mainloop()\n",
    "\n"
   ]
  }
 ],
 "metadata": {
  "kernelspec": {
   "display_name": "Python 3 (ipykernel)",
   "language": "python",
   "name": "python3"
  },
  "language_info": {
   "codemirror_mode": {
    "name": "ipython",
    "version": 3
   },
   "file_extension": ".py",
   "mimetype": "text/x-python",
   "name": "python",
   "nbconvert_exporter": "python",
   "pygments_lexer": "ipython3",
   "version": "3.12.4"
  }
 },
 "nbformat": 4,
 "nbformat_minor": 5
}
